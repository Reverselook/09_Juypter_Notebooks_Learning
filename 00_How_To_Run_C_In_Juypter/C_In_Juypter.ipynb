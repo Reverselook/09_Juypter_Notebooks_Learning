{
 "cells": [
  {
   "cell_type": "markdown",
   "metadata": {},
   "source": [
    "# How To Run C In Juypter | Procedures"
   ]
  },
  {
   "cell_type": "markdown",
   "metadata": {},
   "source": [
    "**Description:** This notebook is the first one of this learning series and will focus on the steps for running C programs within Juypter notebook.\n",
    "\n",
    "**Date:** July 8, 2024\n",
    "\n",
    "**Author:** ReverseLook\n",
    "\n",
    "**Reference:** [How to Code in C with a Jupyter Notebook](https://www.youtube.com/watch?v=cWdU9unrlm0)"
   ]
  },
  {
   "cell_type": "markdown",
   "metadata": {},
   "source": [
    "1. Create a file for your C program with the *file* special command and add the code you want in that file (add within the python cell).\n",
    "\n",
    "Ref:[Special commands](https://www.geeksforgeeks.org/useful-ipython-magic-commands/), [IPython](https://ipython.readthedocs.io/en/stable/interactive/magics.html)\n",
    "\n",
    "Example:\n",
    "```\n",
    "%%file file_name.c\n",
    "```"
   ]
  },
  {
   "cell_type": "code",
   "execution_count": 1,
   "metadata": {},
   "outputs": [
    {
     "name": "stdout",
     "output_type": "stream",
     "text": [
      "Writing sample_c_program.c\n"
     ]
    }
   ],
   "source": [
    "%%file sample_c_program.c\n",
    "#include <stdio.h>\n",
    "\n",
    "int main(){\n",
    "\n",
    "    printf(\"Hello there, this is C\\n\");\n",
    "\n",
    "    return 0;\n",
    "\n",
    "}"
   ]
  },
  {
   "cell_type": "markdown",
   "metadata": {},
   "source": [
    "2. Compile your C program with the **%%bash** special command\n",
    "\n",
    "**NOTE:** You will see the compiled version of your code in the file explorer\n",
    "\n",
    "**Linux:** %%bash\n",
    "\n",
    "**Windows:** %%cmd"
   ]
  },
  {
   "cell_type": "code",
   "execution_count": 2,
   "metadata": {},
   "outputs": [],
   "source": [
    "%%bash \n",
    "gcc sample_c_program.c -g -o sample_c_program"
   ]
  },
  {
   "cell_type": "markdown",
   "metadata": {},
   "source": [
    "3. Execute the program that you just compiled"
   ]
  },
  {
   "cell_type": "code",
   "execution_count": 3,
   "metadata": {},
   "outputs": [
    {
     "name": "stdout",
     "output_type": "stream",
     "text": [
      "Hello there, this is C\n"
     ]
    }
   ],
   "source": [
    "%%bash\n",
    "./sample_c_program"
   ]
  }
 ],
 "metadata": {
  "kernelspec": {
   "display_name": "reDev",
   "language": "python",
   "name": "python3"
  },
  "language_info": {
   "codemirror_mode": {
    "name": "ipython",
    "version": 3
   },
   "file_extension": ".py",
   "mimetype": "text/x-python",
   "name": "python",
   "nbconvert_exporter": "python",
   "pygments_lexer": "ipython3",
   "version": "3.12.4"
  }
 },
 "nbformat": 4,
 "nbformat_minor": 2
}
