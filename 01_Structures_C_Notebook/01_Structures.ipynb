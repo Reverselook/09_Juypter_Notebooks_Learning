{
 "cells": [
  {
   "cell_type": "markdown",
   "metadata": {},
   "source": [
    "# Structures C Notebook | Structures"
   ]
  },
  {
   "cell_type": "markdown",
   "metadata": {},
   "source": [
    "**Description:** This notebook will focus on the coding concept - Structures. *Note, various open-source and paid resources were used as references to create this content.*\n",
    "\n",
    "**Date:** July 8, 2024\n",
    "\n",
    "**Author:** ReverseLook"
   ]
  },
  {
   "cell_type": "markdown",
   "metadata": {},
   "source": [
    "## Structures (structs) are:"
   ]
  },
  {
   "cell_type": "markdown",
   "metadata": {},
   "source": [
    "- User-defined data types \n",
    "- They allow the grouping of related items of **different data types** together in a single unit.\n",
    "- Each item in a struct is called a \"member\" or \"element\"\n",
    "\n",
    "You will commonly see structures within Windows API.\n",
    "\n",
    "Reference(s):\n",
    "\n",
    "[Structures](https://www.w3schools.com/c/c_structs.php)"
   ]
  },
  {
   "cell_type": "markdown",
   "metadata": {},
   "source": [
    "## Declaring and Initializing a Structure"
   ]
  },
  {
   "cell_type": "markdown",
   "metadata": {},
   "source": [
    "Structures are generally declared with the use of the **typedef** keyword (see below). The use of typedef adds two additional names \n",
    "\n",
    "Example of Declaring Stuctures:  \n",
    "```\n",
    "typedef struct _MY_STRUCTURE_NAME {\n",
    "    // Structure members (e.g., int data1; float data2; char name[50];)\n",
    "} MY_STRUCTURE_NAME, *PMY_STRUCTURE_NAME;\n",
    "```\n",
    "\n",
    "**BREAKDOWN:**\n",
    "\n",
    "``` typedef ```: This tell the C compiler that you're creating an alias or nickname for a data type\n",
    "```_MY_STRUCTURE_NAME {...}```: This defines the structure itself \n",
    "- ```MY_STRUCTURE_NAME```: The label for the structure\n",
    "- ``` //Structure members```: This is where you will put the actual members that make up your struct\n",
    "- ```MY_STRUCTURE_NAME```: This is the alias we're creating for the structure.\n",
    "- ```*PMY_STRUCTURE_NAME```: This is optional but is useful as it creates an additional alias specifically from pointer to this struct. This makes it easier to work with pointers to your structures\n",
    "\n",
    "Example of Initializing Stuctures:  \n",
    "- This will depend on whether you're initializing the actual structure or a pointer to the structure\n",
    "```\n",
    "MY_STRUCTURE_NAME struct1 = {0}; // the '{0}' portion is used to initialize all the elements of struct1 to zero\n",
    "\n",
    "struct _MY_STRUCTURE_NAME struct2 = {0}; // the '{0}' portion is used to initialize all the elements of struct2 to zero\n",
    "\n",
    "// This is different when initializing the struct pointer\n",
    "PMY_STRUCTURE_NAME structpointer = NULL;\n",
    "\n",
    "```"
   ]
  },
  {
   "cell_type": "markdown",
   "metadata": {},
   "source": [
    "## Example | Employee Structure"
   ]
  },
  {
   "cell_type": "markdown",
   "metadata": {},
   "source": [
    "METHODS FOR INITIALIZING AND ACCESSING STRUCTURE MEMBERS:\n",
    "- Struct member can be initialized directly (*via the dot operator*) through the sructure or indirectly through a pointer to the structure.\n",
    "- You can also do so using *designated initializer syntax* where you specify which member of the struct to initialize\n",
    "- Initializing and accessing a struct through its pointer is done via the *arrow pointer (->)*"
   ]
  },
  {
   "cell_type": "markdown",
   "metadata": {},
   "source": [
    "### Method #1 | Dot Operator"
   ]
  },
  {
   "cell_type": "code",
   "execution_count": 2,
   "metadata": {},
   "outputs": [
    {
     "name": "stdout",
     "output_type": "stream",
     "text": [
      "Overwriting struct_dot_operator_prj.c\n"
     ]
    }
   ],
   "source": [
    "%%file struct_dot_operator_prj.c\n",
    "#include <stdio.h>\n",
    "\n",
    "//Structure Declaration\n",
    "typedef struct _EMPLOYEE_STRUCTURE {\n",
    "  int ID;\n",
    "  int Age;\n",
    "} EMPLOYEE_STRUCTURE, *PEMPLOYEE_STRUCTURE;\n",
    "\n",
    "//Main\n",
    "int main(){\n",
    "  // Initializing Employee Structure\n",
    "  // Note: employee is a variable declare with type EMPLOYEE_STRUCTURE\n",
    "\n",
    "  EMPLOYEE_STRUCTURE employee = { 0 }; // initialize all elements of struct to zero\n",
    "\n",
    "  //Initializing directly through the dot operator\n",
    "\n",
    "  employee.ID  = 1470;   // initialize the ID element\n",
    "  employee.Age = 34;     // initialize the Age element\n",
    "\n",
    "  // Printing elements within a structure with the dot operator\n",
    "  printf(\"The Employee ID is: %d\\n\", employee.ID);\n",
    "  printf(\"The Employee Age is: %d\\n\", employee.Age);\n",
    "\n",
    "  return 0;\n",
    "\n",
    "}"
   ]
  },
  {
   "cell_type": "markdown",
   "metadata": {},
   "source": [
    "- Compiling your C program with the **%%bash** special command"
   ]
  },
  {
   "cell_type": "code",
   "execution_count": 9,
   "metadata": {},
   "outputs": [],
   "source": [
    "%%bash \n",
    "gcc struct_dot_operator_prj.c -g -o struct_dot_operator_prj"
   ]
  },
  {
   "cell_type": "markdown",
   "metadata": {},
   "source": [
    "- Execute the program that you just compiled"
   ]
  },
  {
   "cell_type": "code",
   "execution_count": 11,
   "metadata": {},
   "outputs": [
    {
     "name": "stdout",
     "output_type": "stream",
     "text": [
      "The Employee ID is: 1470\n",
      "The Employee Age is: 34\n"
     ]
    }
   ],
   "source": [
    "%%bash\n",
    "./struct_dot_operator_prj"
   ]
  },
  {
   "cell_type": "markdown",
   "metadata": {},
   "source": [
    "### Method #2 | Designated Initializer Syntax"
   ]
  },
  {
   "cell_type": "code",
   "execution_count": 7,
   "metadata": {},
   "outputs": [
    {
     "name": "stdout",
     "output_type": "stream",
     "text": [
      "Writing struct_designated_ini_prj.c\n"
     ]
    }
   ],
   "source": [
    "%%file struct_designated_ini_prj.c\n",
    "#include <stdio.h>\n",
    "\n",
    "//Structure Declaration\n",
    "typedef struct _EMPLOYEE_STRUCTURE {\n",
    "  int ID;\n",
    "  int Age;\n",
    "} EMPLOYEE_STRUCTURE, *PEMPLOYEE_STRUCTURE;\n",
    "\n",
    "//Main\n",
    "int main(){\n",
    "  // Initializing Employee Structure\n",
    "  // Note: employee is a variable declare with type EMPLOYEE_STRUCTURE\n",
    "\n",
    "  EMPLOYEE_STRUCTURE employee = { .ID = 1455, .Age = 33 }; // initialize the ID and Age members\n",
    "\n",
    "  // Printing members within a structure with the designated initializer syntax\n",
    "  printf(\"The Employee ID is: %d\\n\", employee.ID);\n",
    "  printf(\"The Employee Age is: %d\\n\", employee.Age);\n",
    "\n",
    "  return 0;\n",
    "\n",
    "}"
   ]
  },
  {
   "cell_type": "markdown",
   "metadata": {},
   "source": [
    "- Compiling your C program with the **%%bash** special command"
   ]
  },
  {
   "cell_type": "code",
   "execution_count": 14,
   "metadata": {},
   "outputs": [],
   "source": [
    "%%bash \n",
    "gcc struct_designated_ini_prj.c -g -o struct_designated_ini_prj"
   ]
  },
  {
   "cell_type": "markdown",
   "metadata": {},
   "source": [
    "- Execute the program that you just compiled"
   ]
  },
  {
   "cell_type": "code",
   "execution_count": 18,
   "metadata": {},
   "outputs": [
    {
     "name": "stdout",
     "output_type": "stream",
     "text": [
      "The Employee ID is: 1455\n",
      "The Employee Age is: 33\n"
     ]
    }
   ],
   "source": [
    "%%bash\n",
    "./struct_designated_ini_prj"
   ]
  },
  {
   "cell_type": "markdown",
   "metadata": {},
   "source": [
    "### Method #3 | Initializing and accessing structure through its pointer"
   ]
  },
  {
   "cell_type": "code",
   "execution_count": 16,
   "metadata": {},
   "outputs": [
    {
     "name": "stdout",
     "output_type": "stream",
     "text": [
      "Overwriting struct_pointer_ini_prj.c\n"
     ]
    }
   ],
   "source": [
    "%%file struct_pointer_ini_prj.c\n",
    "#include <stdio.h>\n",
    "\n",
    "//Structure Declaration\n",
    "typedef struct _EMPLOYEE_STRUCTURE {\n",
    "  int ID;\n",
    "  int Age;\n",
    "} EMPLOYEE_STRUCTURE, *PEMPLOYEE_STRUCTURE;\n",
    "\n",
    "//Main\n",
    "int main(){\n",
    "  // Initializing Employee Structure\n",
    "  // Note: employee is a variable declare with type EMPLOYEE_STRUCTURE\n",
    "\n",
    "  EMPLOYEE_STRUCTURE employee = { .ID = 1455, .Age = 33 }; // initialize the ID and Age members\n",
    "\n",
    "  //employeepointer is a pointer to the 'employee' structure\n",
    "  PEMPLOYEE_STRUCTURE employeepointer = &employee;\n",
    "\n",
    "  // Printing members within a structure with the pointer\n",
    "  printf(\"The Employee ID is: %d\\n\", employee.ID);\n",
    "  printf(\"The Employee Age is: %d\\n\", employee.Age);\n",
    "\n",
    "  //Update the the Age member\n",
    "  employeepointer->Age = 22;\n",
    "\n",
    "  // Printing changed member\n",
    "  printf(\"The Employee ID is: %d\\n\", employee.ID);\n",
    "  printf(\"The new Employee Age is now: %d\\n\", employeepointer->Age);\n",
    "\n",
    "  return 0;\n",
    "\n",
    "}"
   ]
  },
  {
   "cell_type": "markdown",
   "metadata": {},
   "source": [
    "- Compiling your C program with the **%%bash** special command"
   ]
  },
  {
   "cell_type": "code",
   "execution_count": 17,
   "metadata": {},
   "outputs": [],
   "source": [
    "%%bash \n",
    "gcc struct_pointer_ini_prj.c -g -o struct_pointer_ini_prj"
   ]
  },
  {
   "cell_type": "markdown",
   "metadata": {},
   "source": [
    "- Execute the program that you just compiled"
   ]
  },
  {
   "cell_type": "code",
   "execution_count": 19,
   "metadata": {},
   "outputs": [
    {
     "name": "stdout",
     "output_type": "stream",
     "text": [
      "The Employee ID is: 1455\n",
      "The Employee Age is: 33\n",
      "The Employee ID is: 1455\n",
      "The new Employee Age is now: 22\n"
     ]
    }
   ],
   "source": [
    "%%bash\n",
    "./struct_pointer_ini_prj"
   ]
  }
 ],
 "metadata": {
  "kernelspec": {
   "display_name": "reDev",
   "language": "python",
   "name": "python3"
  },
  "language_info": {
   "codemirror_mode": {
    "name": "ipython",
    "version": 3
   },
   "file_extension": ".py",
   "mimetype": "text/x-python",
   "name": "python",
   "nbconvert_exporter": "python",
   "pygments_lexer": "ipython3",
   "version": "3.12.4"
  }
 },
 "nbformat": 4,
 "nbformat_minor": 2
}
