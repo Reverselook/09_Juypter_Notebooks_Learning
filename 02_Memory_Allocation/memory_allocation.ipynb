{
 "cells": [
  {
   "cell_type": "markdown",
   "metadata": {},
   "source": [
    "# Memory Allocation"
   ]
  },
  {
   "cell_type": "markdown",
   "metadata": {},
   "source": [
    "**Description:** This notebook will be focused on memory allocation with Windows API programming.\n",
    "\n",
    "**Date:** July 8, 2024\n",
    "\n",
    "**Author:** ReverseLook"
   ]
  },
  {
   "cell_type": "code",
   "execution_count": 1,
   "metadata": {},
   "outputs": [
    {
     "name": "stdout",
     "output_type": "stream",
     "text": [
      "Overwriting memory_allocation.c\n"
     ]
    }
   ],
   "source": [
    "%%file memory_allocation.c\n",
    "#include <Windows.h>\n",
    "#include <stdio.h>\n",
    "\n",
    "int main(){\n",
    "\n",
    "    // Method Using HeapAlloc()\n",
    "    PVOID pAddress = HeapAlloc(GetProcessHeap(),HEAP_ZERO_MEMORY, 100);\n",
    "    CHAR* cString = \"This is a memory allocation example\";\n",
    "\n",
    "    memcpy(pAddress, cString, strlen(cString));\n",
    "    \n",
    "    printf(\"[+] Base Address Of Allocated Memory : 0x%p \\n\", pAddress);\n",
    "    printf(\"[#] Press <Enter> To Quit ... \");\n",
    "    getchar();\n",
    "\n",
    "    return 0;\n",
    "\n",
    "}\n"
   ]
  },
  {
   "cell_type": "markdown",
   "metadata": {},
   "source": [
    "Compile the script"
   ]
  },
  {
   "cell_type": "code",
   "execution_count": 2,
   "metadata": {},
   "outputs": [
    {
     "name": "stdout",
     "output_type": "stream",
     "text": [
      "Microsoft Windows [Version 10.0.22631.3880]\n",
      "(c) Microsoft Corporation. All rights reserved.\n",
      "\n",
      "(reDev) c:\\Users\\rever\\OneDrive\\Documents\\GitHub\\Jupyter_Notebooks_Learning\\02_Memory_Allocation>gcc memory_allocation.c -g -o memory_allocation\n",
      "\n",
      "(reDev) c:\\Users\\rever\\OneDrive\\Documents\\GitHub\\Jupyter_Notebooks_Learning\\02_Memory_Allocation>"
     ]
    }
   ],
   "source": [
    "%%cmd\n",
    "gcc memory_allocation.c -g -o memory_allocation"
   ]
  },
  {
   "cell_type": "markdown",
   "metadata": {},
   "source": [
    "Run the script"
   ]
  },
  {
   "cell_type": "code",
   "execution_count": null,
   "metadata": {},
   "outputs": [],
   "source": [
    "%%cmd\n",
    "./memory_allocation"
   ]
  }
 ],
 "metadata": {
  "kernelspec": {
   "display_name": "reDev",
   "language": "python",
   "name": "python3"
  },
  "language_info": {
   "codemirror_mode": {
    "name": "ipython",
    "version": 3
   },
   "file_extension": ".py",
   "mimetype": "text/x-python",
   "name": "python",
   "nbconvert_exporter": "python",
   "pygments_lexer": "ipython3",
   "version": "3.12.4"
  }
 },
 "nbformat": 4,
 "nbformat_minor": 2
}
