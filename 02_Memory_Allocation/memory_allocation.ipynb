{
 "cells": [
  {
   "cell_type": "markdown",
   "metadata": {},
   "source": [
    "# Memory Allocation"
   ]
  },
  {
   "cell_type": "markdown",
   "metadata": {},
   "source": [
    "**Description:** This notebook will be focused on memory allocation with Windows API programming.\n",
    "\n",
    "**Date:** July 8, 2024\n",
    "\n",
    "**Author:** ReverseLook"
   ]
  },
  {
   "cell_type": "code",
   "execution_count": 1,
   "metadata": {},
   "outputs": [
    {
     "name": "stdout",
     "output_type": "stream",
     "text": [
      "Overwriting memory_allocation.c\n"
     ]
    }
   ],
   "source": [
    "%%file memory_allocation.c\n",
    "#include <Windows.h>\n",
    "#include <stdio.h>\n",
    "\n",
    "int main(){\n",
    "\n",
    "    PVOID pAddress = HeapAlloc(hHeap:GetProcessHeap(), dwFlags:0, dwBytes:100);\n",
    "\n",
    "    printf(_Format:\"[+] Base Address Of Allocated Memory : 0x%p \\n\", pAddress);\n",
    "    printf(_Format:\"[#] Press <Enter> To Quit ... \")\n",
    "    getchar();\n",
    "\n",
    "    return 0;\n",
    "\n",
    "}\n",
    "\n"
   ]
  },
  {
   "cell_type": "markdown",
   "metadata": {},
   "source": [
    "- Compile the script"
   ]
  },
  {
   "cell_type": "markdown",
   "metadata": {},
   "source": [
    "%%cmd\n",
    "gcc memory_allocation.c -g -o memory_allocation\n",
    "How to do this on windows"
   ]
  },
  {
   "cell_type": "code",
   "execution_count": null,
   "metadata": {},
   "outputs": [],
   "source": []
  }
 ],
 "metadata": {
  "kernelspec": {
   "display_name": "reDev",
   "language": "python",
   "name": "python3"
  },
  "language_info": {
   "codemirror_mode": {
    "name": "ipython",
    "version": 3
   },
   "file_extension": ".py",
   "mimetype": "text/x-python",
   "name": "python",
   "nbconvert_exporter": "python",
   "pygments_lexer": "ipython3",
   "version": "3.12.4"
  }
 },
 "nbformat": 4,
 "nbformat_minor": 2
}
