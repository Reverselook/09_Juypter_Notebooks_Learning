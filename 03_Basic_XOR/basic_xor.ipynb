{
 "cells": [
  {
   "cell_type": "markdown",
   "metadata": {},
   "source": [
    "# Basic of XOR "
   ]
  },
  {
   "cell_type": "markdown",
   "metadata": {},
   "source": [
    "**Descriptions:** The below code snippet below shows a basic XOR encryption function. The function simply XORs each byte of the shell-code with a 1-byte key.\n",
    "\n",
    "**Date:**  August 23, 2024\n",
    "\n",
    "**Author:** ReverseLook"
   ]
  },
  {
   "cell_type": "markdown",
   "metadata": {},
   "source": [
    "**Snippet #1:**\n",
    "\n",
    "**Description:**\n",
    "The below snippet is used to print each byte of the shellcode array in hexadecimal format. \n",
    "- %02X: This is a format specifier that tells printf to output a hexadecimal number with at least 2 digits, padding with zeros if necessary.\n",
    "- shellcode[i]: This accesses the i-th element of the shellcode array, which is a single byte.\n",
    "- The space after %02X adds a space between each printed byte.\n",
    "\n",
    "This line is part of a loop that iterates through each byte of the shellcode, printing it as a two-digit hexadecimal number. It's commonly used to display binary data in a readable format, which is particularly useful when working with shellcode or other raw binary data."
   ]
  },
  {
   "cell_type": "code",
   "execution_count": 44,
   "metadata": {},
   "outputs": [
    {
     "name": "stdout",
     "output_type": "stream",
     "text": [
      "Overwriting basic_xor.c\n"
     ]
    }
   ],
   "source": [
    "%%file basic_xor.c\n",
    "#include <stdio.h>\n",
    "#include <stdint.h>\n",
    "\n",
    "void XorByOneKey(uint8_t *pShellcode, size_t sShellcodeSize, uint8_t bKey) {\n",
    "    for (size_t i = 0; i < sShellcodeSize; i++) {\n",
    "        pShellcode[i] = pShellcode[i] ^ bKey;\n",
    "    }\n",
    "}\n",
    "\n",
    "int main() {\n",
    "    // Example shellcode (you can replace this with your own data)\n",
    "    uint8_t shellcode[] = {0x90, 0x90, 0x90, 0x90, 0x90};\n",
    "    size_t shellcodeSize = sizeof(shellcode);\n",
    "    uint8_t key = 0xAA;\n",
    "\n",
    "    printf(\"Original shellcode: \");\n",
    "    for (size_t i = 0; i < shellcodeSize; i++) {\n",
    "        printf(\"%02X \", shellcode[i]);\n",
    "    }\n",
    "    printf(\"\\n\");\n",
    "    \n",
    "}"
   ]
  },
  {
   "cell_type": "markdown",
   "metadata": {},
   "source": [
    "Compile Script"
   ]
  },
  {
   "cell_type": "code",
   "execution_count": 45,
   "metadata": {},
   "outputs": [
    {
     "name": "stdout",
     "output_type": "stream",
     "text": [
      "Microsoft Windows [Version 10.0.22631.3880]\n",
      "(c) Microsoft Corporation. All rights reserved.\n",
      "\n",
      "(reDev) c:\\Users\\rever\\OneDrive\\Documents\\GitHub\\Jupyter_Notebooks_Learning\\03_Basic_XOR>gcc basic_xor.c -g -o basic_xor\n",
      "\n",
      "(reDev) c:\\Users\\rever\\OneDrive\\Documents\\GitHub\\Jupyter_Notebooks_Learning\\03_Basic_XOR>"
     ]
    }
   ],
   "source": [
    "%%cmd\n",
    "gcc basic_xor.c -g -o basic_xor"
   ]
  },
  {
   "cell_type": "markdown",
   "metadata": {},
   "source": [
    "Run the script"
   ]
  },
  {
   "cell_type": "code",
   "execution_count": 46,
   "metadata": {},
   "outputs": [
    {
     "name": "stdout",
     "output_type": "stream",
     "text": [
      "Microsoft Windows [Version 10.0.22631.3880]\n",
      "(c) Microsoft Corporation. All rights reserved.\n",
      "\n",
      "(reDev) c:\\Users\\rever\\OneDrive\\Documents\\GitHub\\Jupyter_Notebooks_Learning\\03_Basic_XOR>basic_xor.exe\n",
      "Original shellcode: 90 90 90 90 90 \n",
      "\n",
      "(reDev) c:\\Users\\rever\\OneDrive\\Documents\\GitHub\\Jupyter_Notebooks_Learning\\03_Basic_XOR>"
     ]
    }
   ],
   "source": [
    "%%cmd\n",
    "basic_xor.exe"
   ]
  }
 ],
 "metadata": {
  "kernelspec": {
   "display_name": "reDev",
   "language": "python",
   "name": "python3"
  },
  "language_info": {
   "codemirror_mode": {
    "name": "ipython",
    "version": 3
   },
   "file_extension": ".py",
   "mimetype": "text/x-python",
   "name": "python",
   "nbconvert_exporter": "python",
   "pygments_lexer": "ipython3",
   "version": "3.12.4"
  }
 },
 "nbformat": 4,
 "nbformat_minor": 2
}
